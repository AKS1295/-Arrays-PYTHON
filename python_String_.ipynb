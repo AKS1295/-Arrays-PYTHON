{
  "nbformat": 4,
  "nbformat_minor": 0,
  "metadata": {
    "colab": {
      "name": "python String .ipynb",
      "provenance": [],
      "collapsed_sections": [],
      "authorship_tag": "ABX9TyNw988cYZVEWmRm/nwnOCGB",
      "include_colab_link": true
    },
    "kernelspec": {
      "name": "python3",
      "display_name": "Python 3"
    },
    "language_info": {
      "name": "python"
    }
  },
  "cells": [
    {
      "cell_type": "markdown",
      "metadata": {
        "id": "view-in-github",
        "colab_type": "text"
      },
      "source": [
        "<a href=\"https://colab.research.google.com/github/AKS1295/-Arrays-PYTHON/blob/main/python_String_.ipynb\" target=\"_parent\"><img src=\"https://colab.research.google.com/assets/colab-badge.svg\" alt=\"Open In Colab\"/></a>"
      ]
    },
    {
      "cell_type": "code",
      "source": [
        "m = \"akshay is good coder and analyst\"\n",
        "x =m.capitalize()\n",
        "x"
      ],
      "metadata": {
        "colab": {
          "base_uri": "https://localhost:8080/",
          "height": 36
        },
        "id": "jHhMdRbB7_6p",
        "outputId": "f529b581-814b-4c15-d775-36e888acfa17"
      },
      "execution_count": 16,
      "outputs": [
        {
          "output_type": "execute_result",
          "data": {
            "text/plain": [
              "'Akshay is good coder and analyst'"
            ],
            "application/vnd.google.colaboratory.intrinsic+json": {
              "type": "string"
            }
          },
          "metadata": {},
          "execution_count": 16
        }
      ]
    },
    {
      "cell_type": "code",
      "source": [
        "m = \"12 is good day\"\n",
        "x =m.capitalize()\n",
        "x"
      ],
      "metadata": {
        "colab": {
          "base_uri": "https://localhost:8080/",
          "height": 36
        },
        "id": "pyoLQYw-8cHl",
        "outputId": "28a258b8-c8df-441d-93d9-2ccda7949e35"
      },
      "execution_count": 17,
      "outputs": [
        {
          "output_type": "execute_result",
          "data": {
            "text/plain": [
              "'12 is good day'"
            ],
            "application/vnd.google.colaboratory.intrinsic+json": {
              "type": "string"
            }
          },
          "metadata": {},
          "execution_count": 17
        }
      ]
    },
    {
      "cell_type": "code",
      "source": [
        "m = \"akshay is good coder and analyst\"\n",
        "x =m.casefold()\n",
        "x"
      ],
      "metadata": {
        "colab": {
          "base_uri": "https://localhost:8080/",
          "height": 36
        },
        "id": "xkjB1Juz8cJx",
        "outputId": "335ba94d-3a62-4b0e-e652-6c6ae1bda9d8"
      },
      "execution_count": 18,
      "outputs": [
        {
          "output_type": "execute_result",
          "data": {
            "text/plain": [
              "'akshay is good coder and analyst'"
            ],
            "application/vnd.google.colaboratory.intrinsic+json": {
              "type": "string"
            }
          },
          "metadata": {},
          "execution_count": 18
        }
      ]
    },
    {
      "cell_type": "code",
      "source": [
        "m = \"akshay\"\n",
        "x = m.center(20)\n",
        "print(x)"
      ],
      "metadata": {
        "colab": {
          "base_uri": "https://localhost:8080/"
        },
        "id": "EKLQ2yvA8cL8",
        "outputId": "4c7aa277-5bfe-4a62-de3e-e1dcfa527328"
      },
      "execution_count": 22,
      "outputs": [
        {
          "output_type": "stream",
          "name": "stdout",
          "text": [
            "       akshay       \n"
          ]
        }
      ]
    },
    {
      "cell_type": "code",
      "source": [
        "m = \"akshay\"\n",
        "x = m.center(20,\"M\")\n",
        "print(x)"
      ],
      "metadata": {
        "colab": {
          "base_uri": "https://localhost:8080/"
        },
        "id": "U1spdTyj8cOC",
        "outputId": "dd246996-2194-44a4-d087-b2f1c461cb7a"
      },
      "execution_count": 23,
      "outputs": [
        {
          "output_type": "stream",
          "name": "stdout",
          "text": [
            "MMMMMMMakshayMMMMMMM\n"
          ]
        }
      ]
    },
    {
      "cell_type": "code",
      "source": [
        "m = \"akshay is good coder and good analyst\"\n",
        "x =m.count(\"good\")\n",
        "x"
      ],
      "metadata": {
        "colab": {
          "base_uri": "https://localhost:8080/"
        },
        "id": "L2ieqVd98cQE",
        "outputId": "e8210cac-e4ec-42d8-afc8-564d0f5a4422"
      },
      "execution_count": 24,
      "outputs": [
        {
          "output_type": "execute_result",
          "data": {
            "text/plain": [
              "2"
            ]
          },
          "metadata": {},
          "execution_count": 24
        }
      ]
    },
    {
      "cell_type": "code",
      "source": [
        "m = \"akshay is good coder and good analyst\"\n",
        "x =m.count(\"good\",10,24)\n",
        "x"
      ],
      "metadata": {
        "colab": {
          "base_uri": "https://localhost:8080/"
        },
        "id": "u-hptypy8cSc",
        "outputId": "6c7b9f8e-5181-4867-e8b8-1964ffd5072d"
      },
      "execution_count": 26,
      "outputs": [
        {
          "output_type": "execute_result",
          "data": {
            "text/plain": [
              "1"
            ]
          },
          "metadata": {},
          "execution_count": 26
        }
      ]
    },
    {
      "cell_type": "code",
      "source": [
        "m = \"akshay is good coder and good analyst\"\n",
        "x =m.encode()\n",
        "x"
      ],
      "metadata": {
        "colab": {
          "base_uri": "https://localhost:8080/"
        },
        "id": "lJa0xfSq8cUc",
        "outputId": "281ed63e-bf87-46a8-f39d-78aaaddf85ab"
      },
      "execution_count": 27,
      "outputs": [
        {
          "output_type": "execute_result",
          "data": {
            "text/plain": [
              "b'akshay is good coder and good analyst'"
            ]
          },
          "metadata": {},
          "execution_count": 27
        }
      ]
    },
    {
      "cell_type": "code",
      "source": [
        "txt = \"akshay is good coder and good analyst\"\n",
        "\n",
        "print(txt.encode(encoding=\"ascii\",errors=\"backslashreplace\"))\n",
        "print(txt.encode(encoding=\"ascii\",errors=\"ignore\"))\n",
        "print(txt.encode(encoding=\"ascii\",errors=\"namereplace\"))\n",
        "print(txt.encode(encoding=\"ascii\",errors=\"replace\"))\n",
        "print(txt.encode(encoding=\"ascii\",errors=\"xmlcharrefreplace\"))\n"
      ],
      "metadata": {
        "colab": {
          "base_uri": "https://localhost:8080/"
        },
        "id": "kci1e0u98cWc",
        "outputId": "d5e409ac-52c3-45ab-dc9f-b59b2c02158e"
      },
      "execution_count": 28,
      "outputs": [
        {
          "output_type": "stream",
          "name": "stdout",
          "text": [
            "b'akshay is good coder and good analyst'\n",
            "b'akshay is good coder and good analyst'\n",
            "b'akshay is good coder and good analyst'\n",
            "b'akshay is good coder and good analyst'\n",
            "b'akshay is good coder and good analyst'\n"
          ]
        }
      ]
    },
    {
      "cell_type": "code",
      "source": [
        "m = \"akshay is good coder and good analyst.\"\n",
        "x = m.endswith(\".\")\n",
        "x"
      ],
      "metadata": {
        "colab": {
          "base_uri": "https://localhost:8080/"
        },
        "id": "_-JbMEj_8cZb",
        "outputId": "02b6723e-81b0-4ca0-b783-e1c8ed1df48e"
      },
      "execution_count": 32,
      "outputs": [
        {
          "output_type": "execute_result",
          "data": {
            "text/plain": [
              "True"
            ]
          },
          "metadata": {},
          "execution_count": 32
        }
      ]
    },
    {
      "cell_type": "code",
      "source": [
        "m = \"akshay is good coder and good analyst.\"\n",
        "x = m.endswith(\"analyst.\")\n",
        "x"
      ],
      "metadata": {
        "colab": {
          "base_uri": "https://localhost:8080/"
        },
        "id": "c7TOXTP78ccn",
        "outputId": "e450ba4b-a182-4ab5-81b3-aff07fea866f"
      },
      "execution_count": 33,
      "outputs": [
        {
          "output_type": "execute_result",
          "data": {
            "text/plain": [
              "True"
            ]
          },
          "metadata": {},
          "execution_count": 33
        }
      ]
    },
    {
      "cell_type": "code",
      "source": [
        "m = \"akshay is good coder and good analyst.\"\n",
        "x = m.endswith(\"analyst.\",5, 12)\n",
        "x"
      ],
      "metadata": {
        "colab": {
          "base_uri": "https://localhost:8080/"
        },
        "id": "axqwmfqy-xe4",
        "outputId": "027dd9c3-1e6a-41b0-cb1e-ee5566d41cb8"
      },
      "execution_count": 35,
      "outputs": [
        {
          "output_type": "execute_result",
          "data": {
            "text/plain": [
              "False"
            ]
          },
          "metadata": {},
          "execution_count": 35
        }
      ]
    },
    {
      "cell_type": "code",
      "source": [
        "m = \"akshay\\is\\good\\coder\\and\\good\\analyst.\"\n",
        "x = m.expandtabs(4)\n",
        "x"
      ],
      "metadata": {
        "colab": {
          "base_uri": "https://localhost:8080/",
          "height": 36
        },
        "id": "LSpdBTMm-5Kp",
        "outputId": "29eeafc5-a5fa-4cd0-ace1-3fd810bc08d9"
      },
      "execution_count": 36,
      "outputs": [
        {
          "output_type": "execute_result",
          "data": {
            "text/plain": [
              "'akshay\\\\is\\\\good\\\\coder\\x07nd\\\\good\\x07nalyst.'"
            ],
            "application/vnd.google.colaboratory.intrinsic+json": {
              "type": "string"
            }
          },
          "metadata": {},
          "execution_count": 36
        }
      ]
    },
    {
      "cell_type": "code",
      "source": [
        "m = \"akshay\\is\\good\\coder\\and\\good\\analyst.\"\n",
        "\n",
        "print(m)\n",
        "print(m.expandtabs())\n",
        "print(m.expandtabs(2))\n",
        "print(m.expandtabs(4))\n",
        "print(m.expandtabs(10))"
      ],
      "metadata": {
        "colab": {
          "base_uri": "https://localhost:8080/"
        },
        "id": "zRUIoSPz_SYc",
        "outputId": "585aa73f-a447-40a1-c761-b06a4056db3a"
      },
      "execution_count": 37,
      "outputs": [
        {
          "output_type": "stream",
          "name": "stdout",
          "text": [
            "akshay\\is\\good\\coder\u0007nd\\good\u0007nalyst.\n",
            "akshay\\is\\good\\coder\u0007nd\\good\u0007nalyst.\n",
            "akshay\\is\\good\\coder\u0007nd\\good\u0007nalyst.\n",
            "akshay\\is\\good\\coder\u0007nd\\good\u0007nalyst.\n",
            "akshay\\is\\good\\coder\u0007nd\\good\u0007nalyst.\n"
          ]
        }
      ]
    },
    {
      "cell_type": "code",
      "source": [
        "m = \"akshay is good coder and good analyst.\"\n",
        "x = m.find(\"analyst.\")\n",
        "x"
      ],
      "metadata": {
        "colab": {
          "base_uri": "https://localhost:8080/"
        },
        "id": "FWReEVGD_vjh",
        "outputId": "9af0f37e-2607-4ef3-8193-63954245921f"
      },
      "execution_count": 38,
      "outputs": [
        {
          "output_type": "execute_result",
          "data": {
            "text/plain": [
              "30"
            ]
          },
          "metadata": {},
          "execution_count": 38
        }
      ]
    },
    {
      "cell_type": "code",
      "source": [
        "m = \"akshay is good coder and good analyst.\"\n",
        "x = m.find(\"a\")\n",
        "x"
      ],
      "metadata": {
        "colab": {
          "base_uri": "https://localhost:8080/"
        },
        "id": "aXjCYectAFxn",
        "outputId": "70b95998-475f-46ca-e737-aecbcabf3de9"
      },
      "execution_count": 39,
      "outputs": [
        {
          "output_type": "execute_result",
          "data": {
            "text/plain": [
              "0"
            ]
          },
          "metadata": {},
          "execution_count": 39
        }
      ]
    },
    {
      "cell_type": "code",
      "source": [
        "m = \"akshay is good coder and good analyst.\"\n",
        "x = m.find(\"i\",7,9)\n",
        "x"
      ],
      "metadata": {
        "colab": {
          "base_uri": "https://localhost:8080/"
        },
        "id": "uqnoertvAO5w",
        "outputId": "4a55e78b-7a0e-4c13-9426-e60b86beb85a"
      },
      "execution_count": 42,
      "outputs": [
        {
          "output_type": "execute_result",
          "data": {
            "text/plain": [
              "7"
            ]
          },
          "metadata": {},
          "execution_count": 42
        }
      ]
    },
    {
      "cell_type": "code",
      "source": [
        "m = \"akshay is good coder and good analyst.\"\n",
        "print(m.find(\"i\"))\n",
        "print(m.index(\"i\"))"
      ],
      "metadata": {
        "colab": {
          "base_uri": "https://localhost:8080/"
        },
        "id": "NRDQk4GkAZH_",
        "outputId": "9bafad80-163d-4fff-e977-41461b85f9a5"
      },
      "execution_count": 44,
      "outputs": [
        {
          "output_type": "stream",
          "name": "stdout",
          "text": [
            "7\n",
            "7\n"
          ]
        }
      ]
    },
    {
      "cell_type": "code",
      "source": [
        "result = \"my score {marks:.2f} percentage!\"\n",
        "print(result.format(marks = 41))"
      ],
      "metadata": {
        "colab": {
          "base_uri": "https://localhost:8080/"
        },
        "id": "Dt9Qf9ReA0N1",
        "outputId": "fe91a86b-4c0c-4c0f-fa87-2f4ddbf4a364"
      },
      "execution_count": 47,
      "outputs": [
        {
          "output_type": "stream",
          "name": "stdout",
          "text": [
            "my score 41.00 percentage!\n"
          ]
        }
      ]
    },
    {
      "cell_type": "code",
      "source": [
        "t1 = \"my name is {fname}, i'm {age}\".format(fname = \"akki\", age = 10)\n",
        "t2 = \"my name is {0}, i'm {1}\".format(\"akki\",10)\n",
        "t2 = \"my name is {}, i'm {}\".format(\"akki\",10)\n",
        "\n",
        "print(t1)\n",
        "print(t2)\n",
        "print(31)"
      ],
      "metadata": {
        "colab": {
          "base_uri": "https://localhost:8080/"
        },
        "id": "yKUo0NcJBLhk",
        "outputId": "417df244-b773-4ae9-ec9f-d33fb07d60c3"
      },
      "execution_count": 50,
      "outputs": [
        {
          "output_type": "stream",
          "name": "stdout",
          "text": [
            "my name is akki, i'm 10\n",
            "my name is akki, i'm 10\n",
            "31\n"
          ]
        }
      ]
    },
    {
      "cell_type": "code",
      "source": [
        "t = \"normal4\"\n",
        "t.isalnum()"
      ],
      "metadata": {
        "colab": {
          "base_uri": "https://localhost:8080/"
        },
        "id": "jQAZV6D5BLjh",
        "outputId": "13b1631b-3b21-4a23-a12d-693e1b71bb7d"
      },
      "execution_count": 51,
      "outputs": [
        {
          "output_type": "execute_result",
          "data": {
            "text/plain": [
              "True"
            ]
          },
          "metadata": {},
          "execution_count": 51
        }
      ]
    },
    {
      "cell_type": "code",
      "source": [
        "t = \"normal 4\"\n",
        "t.isalnum()"
      ],
      "metadata": {
        "colab": {
          "base_uri": "https://localhost:8080/"
        },
        "id": "pUEvQyE3BLlJ",
        "outputId": "89dd9465-cdd2-454e-9f5d-bf33acc75d57"
      },
      "execution_count": 52,
      "outputs": [
        {
          "output_type": "execute_result",
          "data": {
            "text/plain": [
              "False"
            ]
          },
          "metadata": {},
          "execution_count": 52
        }
      ]
    },
    {
      "cell_type": "code",
      "source": [
        "t = \"normalA\"\n",
        "t.isalpha()"
      ],
      "metadata": {
        "colab": {
          "base_uri": "https://localhost:8080/"
        },
        "id": "_CY16uM6BLnT",
        "outputId": "10b468e7-a69b-4cd0-95ba-af235769eee1"
      },
      "execution_count": 53,
      "outputs": [
        {
          "output_type": "execute_result",
          "data": {
            "text/plain": [
              "True"
            ]
          },
          "metadata": {},
          "execution_count": 53
        }
      ]
    },
    {
      "cell_type": "code",
      "source": [
        "t = \"normal1\"\n",
        "t.isalpha()"
      ],
      "metadata": {
        "colab": {
          "base_uri": "https://localhost:8080/"
        },
        "id": "V_THQFEHBLpd",
        "outputId": "9b97a7d7-3dc5-4351-b1d2-ac032377a43e"
      },
      "execution_count": 55,
      "outputs": [
        {
          "output_type": "execute_result",
          "data": {
            "text/plain": [
              "False"
            ]
          },
          "metadata": {},
          "execution_count": 55
        }
      ]
    },
    {
      "cell_type": "code",
      "source": [
        "t = \"normal1\"\n",
        "t.isascii()"
      ],
      "metadata": {
        "colab": {
          "base_uri": "https://localhost:8080/"
        },
        "id": "y2E1G_ypBLsb",
        "outputId": "0738ec5f-c776-4df8-eda2-df869fc23206"
      },
      "execution_count": 56,
      "outputs": [
        {
          "output_type": "execute_result",
          "data": {
            "text/plain": [
              "True"
            ]
          },
          "metadata": {},
          "execution_count": 56
        }
      ]
    },
    {
      "cell_type": "code",
      "source": [
        "t = \"normal\"\n",
        "t.isascii()"
      ],
      "metadata": {
        "colab": {
          "base_uri": "https://localhost:8080/"
        },
        "id": "Mgseh41IBLwC",
        "outputId": "b5ddc00a-2a16-40e5-c50b-4bce682e6484"
      },
      "execution_count": 57,
      "outputs": [
        {
          "output_type": "execute_result",
          "data": {
            "text/plain": [
              "True"
            ]
          },
          "metadata": {},
          "execution_count": 57
        }
      ]
    },
    {
      "cell_type": "code",
      "source": [
        "a = \"\\u0030\"\n",
        "a.isdecimal()"
      ],
      "metadata": {
        "colab": {
          "base_uri": "https://localhost:8080/"
        },
        "id": "2x2Hy0R5Dt5V",
        "outputId": "153eae2e-b303-4dd1-e748-c4068055b268"
      },
      "execution_count": 58,
      "outputs": [
        {
          "output_type": "execute_result",
          "data": {
            "text/plain": [
              "True"
            ]
          },
          "metadata": {},
          "execution_count": 58
        }
      ]
    },
    {
      "cell_type": "code",
      "source": [
        "a = \"\\u0098\"\n",
        "a.isdecimal()"
      ],
      "metadata": {
        "colab": {
          "base_uri": "https://localhost:8080/"
        },
        "id": "Twhl9RixD60y",
        "outputId": "46a543a0-686f-49a1-96f4-098e47d2f97d"
      },
      "execution_count": 59,
      "outputs": [
        {
          "output_type": "execute_result",
          "data": {
            "text/plain": [
              "False"
            ]
          },
          "metadata": {},
          "execution_count": 59
        }
      ]
    },
    {
      "cell_type": "code",
      "source": [
        "a = \"98\"\n",
        "a.isdigit()"
      ],
      "metadata": {
        "colab": {
          "base_uri": "https://localhost:8080/"
        },
        "id": "0S1zqvqPD-8h",
        "outputId": "2226d84a-d561-464f-f632-38a14d4d02a6"
      },
      "execution_count": 61,
      "outputs": [
        {
          "output_type": "execute_result",
          "data": {
            "text/plain": [
              "True"
            ]
          },
          "metadata": {},
          "execution_count": 61
        }
      ]
    },
    {
      "cell_type": "code",
      "source": [
        "a = \"\\u0098\"\n",
        "a.isdigit()"
      ],
      "metadata": {
        "colab": {
          "base_uri": "https://localhost:8080/"
        },
        "id": "5O2pIJqDEIcx",
        "outputId": "f277a060-6883-449b-8736-d4e4c857f5e3"
      },
      "execution_count": 62,
      "outputs": [
        {
          "output_type": "execute_result",
          "data": {
            "text/plain": [
              "False"
            ]
          },
          "metadata": {},
          "execution_count": 62
        }
      ]
    },
    {
      "cell_type": "code",
      "source": [
        "a = \"akki\"\n",
        "a.isidentifier()"
      ],
      "metadata": {
        "colab": {
          "base_uri": "https://localhost:8080/"
        },
        "id": "nlPKR_VuEPx_",
        "outputId": "becb5e8d-3086-4a56-dac3-2b9726280a57"
      },
      "execution_count": 63,
      "outputs": [
        {
          "output_type": "execute_result",
          "data": {
            "text/plain": [
              "True"
            ]
          },
          "metadata": {},
          "execution_count": 63
        }
      ]
    },
    {
      "cell_type": "code",
      "source": [
        "a = \"akki09\"\n",
        "a.isidentifier()"
      ],
      "metadata": {
        "colab": {
          "base_uri": "https://localhost:8080/"
        },
        "id": "2FMPU1XuEelq",
        "outputId": "f3d78bc1-d0a5-4217-83ae-57187440ff83"
      },
      "execution_count": 64,
      "outputs": [
        {
          "output_type": "execute_result",
          "data": {
            "text/plain": [
              "True"
            ]
          },
          "metadata": {},
          "execution_count": 64
        }
      ]
    },
    {
      "cell_type": "code",
      "source": [
        "a = \"akki_09_sharma\"\n",
        "a.isidentifier()"
      ],
      "metadata": {
        "colab": {
          "base_uri": "https://localhost:8080/"
        },
        "id": "6Wd6cBjmEgys",
        "outputId": "d9a04653-7a86-4860-a527-537c0eb803b1"
      },
      "execution_count": 65,
      "outputs": [
        {
          "output_type": "execute_result",
          "data": {
            "text/plain": [
              "True"
            ]
          },
          "metadata": {},
          "execution_count": 65
        }
      ]
    },
    {
      "cell_type": "code",
      "source": [
        "a = \"akki_09_ sharma\"\n",
        "a.isidentifier()"
      ],
      "metadata": {
        "colab": {
          "base_uri": "https://localhost:8080/"
        },
        "id": "-NLTRUDbEkOR",
        "outputId": "b37e005e-257d-4b1c-b1f2-1679eb93eec7"
      },
      "execution_count": 66,
      "outputs": [
        {
          "output_type": "execute_result",
          "data": {
            "text/plain": [
              "False"
            ]
          },
          "metadata": {},
          "execution_count": 66
        }
      ]
    },
    {
      "cell_type": "code",
      "source": [
        "a = \"1995akki\"\n",
        "a.isidentifier()"
      ],
      "metadata": {
        "colab": {
          "base_uri": "https://localhost:8080/"
        },
        "id": "iCVbyVVaEme2",
        "outputId": "360e359e-4295-4bbc-adde-f9c5976b079e"
      },
      "execution_count": 67,
      "outputs": [
        {
          "output_type": "execute_result",
          "data": {
            "text/plain": [
              "False"
            ]
          },
          "metadata": {},
          "execution_count": 67
        }
      ]
    },
    {
      "cell_type": "code",
      "source": [
        "a = \"DEDICATION\"\n",
        "a.islower()"
      ],
      "metadata": {
        "colab": {
          "base_uri": "https://localhost:8080/"
        },
        "id": "W-hm1gHRExrb",
        "outputId": "19f79f05-cc36-4e82-918c-19154078cd24"
      },
      "execution_count": 68,
      "outputs": [
        {
          "output_type": "execute_result",
          "data": {
            "text/plain": [
              "False"
            ]
          },
          "metadata": {},
          "execution_count": 68
        }
      ]
    },
    {
      "cell_type": "code",
      "source": [
        "a = \"dedication\"\n",
        "a.islower()"
      ],
      "metadata": {
        "colab": {
          "base_uri": "https://localhost:8080/"
        },
        "id": "T7cuP7C3FNDk",
        "outputId": "c9d3982f-d8dd-4dac-cf7c-6c0620ba921c"
      },
      "execution_count": 69,
      "outputs": [
        {
          "output_type": "execute_result",
          "data": {
            "text/plain": [
              "True"
            ]
          },
          "metadata": {},
          "execution_count": 69
        }
      ]
    },
    {
      "cell_type": "code",
      "source": [
        "a = \"dedication\"\n",
        "x=a.upper()\n",
        "x"
      ],
      "metadata": {
        "colab": {
          "base_uri": "https://localhost:8080/",
          "height": 36
        },
        "id": "bNK2O0gvFSX2",
        "outputId": "7723bb18-d6af-47c0-96c9-448ca25b291c"
      },
      "execution_count": 70,
      "outputs": [
        {
          "output_type": "execute_result",
          "data": {
            "text/plain": [
              "'DEDICATION'"
            ],
            "application/vnd.google.colaboratory.intrinsic+json": {
              "type": "string"
            }
          },
          "metadata": {},
          "execution_count": 70
        }
      ]
    },
    {
      "cell_type": "code",
      "source": [
        "txt = \"     banana     \"\n",
        "\n",
        "x = txt.lstrip()\n",
        "\n",
        "print(\"of all fruits\", x, \"is my favorite\")\n"
      ],
      "metadata": {
        "colab": {
          "base_uri": "https://localhost:8080/"
        },
        "id": "HObV1KWDFXMS",
        "outputId": "562a26da-f733-4bdd-9e82-24a4c522b94e"
      },
      "execution_count": 71,
      "outputs": [
        {
          "output_type": "stream",
          "name": "stdout",
          "text": [
            "of all fruits banana      is my favorite\n"
          ]
        }
      ]
    },
    {
      "cell_type": "code",
      "source": [
        "txt = \",,,,,ssaaww.....banana\"\n",
        "\n",
        "x = txt.lstrip(\",.asw\")\n",
        "\n",
        "print(x)"
      ],
      "metadata": {
        "colab": {
          "base_uri": "https://localhost:8080/"
        },
        "id": "OvV7dnh2Fhk_",
        "outputId": "8cd7ad45-02fd-48fd-8cd8-91b78d891c4a"
      },
      "execution_count": 73,
      "outputs": [
        {
          "output_type": "stream",
          "name": "stdout",
          "text": [
            "banana\n"
          ]
        }
      ]
    },
    {
      "cell_type": "code",
      "source": [
        "a = \"@@@@@@kawwak'''''light\"\n",
        "x = a.lstrip(\"@,'akw\")\n",
        "print(x)"
      ],
      "metadata": {
        "colab": {
          "base_uri": "https://localhost:8080/"
        },
        "id": "yYbn61YXFkj9",
        "outputId": "f160d0f8-b8a5-4af6-91d7-380435fa9002"
      },
      "execution_count": 74,
      "outputs": [
        {
          "output_type": "stream",
          "name": "stdout",
          "text": [
            "light\n"
          ]
        }
      ]
    },
    {
      "cell_type": "code",
      "source": [
        "food = (\"burger\", \"pizza\", \"chips\", \"samosa\")\n",
        "x = \" \".join(food)\n",
        "print(x)"
      ],
      "metadata": {
        "colab": {
          "base_uri": "https://localhost:8080/"
        },
        "id": "KiyRc8a8Ggxk",
        "outputId": "b32fbaab-c661-41ac-e19b-1ab8aaff887c"
      },
      "execution_count": 77,
      "outputs": [
        {
          "output_type": "stream",
          "name": "stdout",
          "text": [
            "burger pizza chips samosa\n"
          ]
        }
      ]
    },
    {
      "cell_type": "code",
      "source": [
        "food = {\"food\": \"burger\", \"ordered\":\"yes\"}\n",
        "adfood = \"drinks\"\n",
        "x = adfood.join(food)\n",
        "print(x)"
      ],
      "metadata": {
        "colab": {
          "base_uri": "https://localhost:8080/"
        },
        "id": "WHLrdX1UGFZc",
        "outputId": "2570f2ce-728d-42df-c61b-e8bc0e04ba34"
      },
      "execution_count": 78,
      "outputs": [
        {
          "output_type": "stream",
          "name": "stdout",
          "text": [
            "fooddrinksordered\n"
          ]
        }
      ]
    },
    {
      "cell_type": "code",
      "source": [
        "txt = \"trange \"\n",
        "x = txt.maketrans(\"t\", \"o\")\n",
        "print(txt.translate(x))"
      ],
      "metadata": {
        "colab": {
          "base_uri": "https://localhost:8080/"
        },
        "id": "a_rXdK_qGflm",
        "outputId": "3cbab6ce-30ce-4b55-b0c3-46b23f76d70b"
      },
      "execution_count": 81,
      "outputs": [
        {
          "output_type": "stream",
          "name": "stdout",
          "text": [
            "orange \n"
          ]
        }
      ]
    },
    {
      "cell_type": "code",
      "source": [
        "txt = \"Hello Sam!\"\n",
        "\n",
        "mytable = txt.maketrans(\"S\", \"P\")\n",
        "\n",
        "print(txt.translate(mytable))"
      ],
      "metadata": {
        "id": "5Gt7mvJoGfpf"
      },
      "execution_count": null,
      "outputs": []
    },
    {
      "cell_type": "code",
      "source": [
        "greetings = \"Hi! my name is python.\"\n",
        "x=\"iH\"\n",
        "y= \"hO\"\n",
        "m = greetings.maketrans(x,y)\n",
        "print(greetings.translate(m))"
      ],
      "metadata": {
        "colab": {
          "base_uri": "https://localhost:8080/"
        },
        "id": "siuKiXPXGfrC",
        "outputId": "512e8a0a-feb1-44e8-f604-0c0d053f9176"
      },
      "execution_count": 83,
      "outputs": [
        {
          "output_type": "stream",
          "name": "stdout",
          "text": [
            "Oh! my name hs python.\n"
          ]
        }
      ]
    },
    {
      "cell_type": "code",
      "source": [
        "greetings = \"Hi! my name is python.\"\n",
        "x=\"iH\"\n",
        "y= \"hO\"\n",
        "z= \"erew\"\n",
        "m = greetings.maketrans(x,y)\n",
        "print(greetings.translate(m))"
      ],
      "metadata": {
        "colab": {
          "base_uri": "https://localhost:8080/"
        },
        "id": "9xv8tzk6GftV",
        "outputId": "d1c71595-4b26-4546-81ea-da8f37a0e0e1"
      },
      "execution_count": 84,
      "outputs": [
        {
          "output_type": "stream",
          "name": "stdout",
          "text": [
            "Oh! my name hs python.\n"
          ]
        }
      ]
    },
    {
      "cell_type": "code",
      "source": [
        "txt = \"Good night Sam!\"\n",
        "x = \"mSa\"\n",
        "y = \"eJo\"\n",
        "z = \"odnght\"\n",
        "print(txt.maketrans(x, y, z))"
      ],
      "metadata": {
        "colab": {
          "base_uri": "https://localhost:8080/"
        },
        "id": "JpUe6xdZGfvw",
        "outputId": "28ed7cd6-678d-4d94-9c99-8e40ec7d30ee"
      },
      "execution_count": 89,
      "outputs": [
        {
          "output_type": "stream",
          "name": "stdout",
          "text": [
            "{109: 101, 83: 74, 97: 111, 111: None, 100: None, 110: None, 103: None, 104: None, 116: None}\n"
          ]
        }
      ]
    },
    {
      "cell_type": "code",
      "source": [
        "greetings = \"Hi! my name is python.\"\n",
        "m =greetings.partition(\"my\")\n",
        "print(m)"
      ],
      "metadata": {
        "colab": {
          "base_uri": "https://localhost:8080/"
        },
        "id": "2nJj22wIGfyC",
        "outputId": "ff4eb10b-3ee7-4aa1-a895-0d8a63b3e967"
      },
      "execution_count": 90,
      "outputs": [
        {
          "output_type": "stream",
          "name": "stdout",
          "text": [
            "('Hi! ', 'my', ' name is python.')\n"
          ]
        }
      ]
    },
    {
      "cell_type": "code",
      "source": [
        "greetings = \"Hi! my name is python.\"\n",
        "m =greetings.partition(\"mines\")\n",
        "print(m)"
      ],
      "metadata": {
        "colab": {
          "base_uri": "https://localhost:8080/"
        },
        "id": "VoPdwcY3Gf0Y",
        "outputId": "3685f2b9-3584-4871-ec89-39acdf0efc15"
      },
      "execution_count": 91,
      "outputs": [
        {
          "output_type": "stream",
          "name": "stdout",
          "text": [
            "('Hi! my name is python.', '', '')\n"
          ]
        }
      ]
    },
    {
      "cell_type": "code",
      "source": [
        "greetings = \"Hi! my name is python.\"\n",
        "m =greetings.replace(\"Hi\", \"Attention\")\n",
        "print(m)"
      ],
      "metadata": {
        "colab": {
          "base_uri": "https://localhost:8080/"
        },
        "id": "VLcApKFSGf3i",
        "outputId": "af4b0db2-bd2d-477f-a7ed-d80859606102"
      },
      "execution_count": 92,
      "outputs": [
        {
          "output_type": "stream",
          "name": "stdout",
          "text": [
            "Attention! my name is python.\n"
          ]
        }
      ]
    },
    {
      "cell_type": "code",
      "source": [
        "greetings = \"Hi! my name is python. I love to write codelines in python\"\n",
        "m =greetings.replace(\"python\", \"P\")\n",
        "print(m)"
      ],
      "metadata": {
        "colab": {
          "base_uri": "https://localhost:8080/"
        },
        "id": "uG2CWUDLLYOo",
        "outputId": "a99c8a95-b5a2-44bb-841c-f09fcc09d413"
      },
      "execution_count": 94,
      "outputs": [
        {
          "output_type": "stream",
          "name": "stdout",
          "text": [
            "Hi! my name is P. I love to write codelines in P\n"
          ]
        }
      ]
    },
    {
      "cell_type": "code",
      "source": [
        "greetings = \"Hi! my name is python. I love to write codelines in python\"\n",
        "m =greetings.replace(\"python\", \"P\",2)\n",
        "print(m)"
      ],
      "metadata": {
        "colab": {
          "base_uri": "https://localhost:8080/"
        },
        "id": "o6YASXgdLn7i",
        "outputId": "e713bb21-8acd-4e32-d3f6-fb0219f84bd3"
      },
      "execution_count": 95,
      "outputs": [
        {
          "output_type": "stream",
          "name": "stdout",
          "text": [
            "Hi! my name is P. I love to write codelines in P\n"
          ]
        }
      ]
    },
    {
      "cell_type": "code",
      "source": [
        "greetings = \"Hi! my name is python. I love to write codelines in python\"\n",
        "m =greetings.rfind(\"python\")\n",
        "print(m)"
      ],
      "metadata": {
        "colab": {
          "base_uri": "https://localhost:8080/"
        },
        "id": "jcXN7ElqLwbL",
        "outputId": "5b7b15cb-8a71-4b60-89e0-0e2176a404d0"
      },
      "execution_count": 96,
      "outputs": [
        {
          "output_type": "stream",
          "name": "stdout",
          "text": [
            "52\n"
          ]
        }
      ]
    },
    {
      "cell_type": "code",
      "source": [
        "greetings = \"Hi! my name is python. I love to write codelines in python\"\n",
        "m =greetings.rfind(\"t\")\n",
        "print(m)"
      ],
      "metadata": {
        "colab": {
          "base_uri": "https://localhost:8080/"
        },
        "id": "tjnLAA7nL6QG",
        "outputId": "fc16835c-494c-4b65-d747-d5c568264957"
      },
      "execution_count": 98,
      "outputs": [
        {
          "output_type": "stream",
          "name": "stdout",
          "text": [
            "54\n"
          ]
        }
      ]
    },
    {
      "cell_type": "code",
      "source": [
        "greetings = \"Hi! my name is python. I love to write codelines in python\"\n",
        "m =greetings.rfind(\"m\", 3, 6)\n",
        "print(m)"
      ],
      "metadata": {
        "colab": {
          "base_uri": "https://localhost:8080/"
        },
        "id": "XYrb4J4dL_dd",
        "outputId": "f57f384f-9fa7-482c-bdc3-41da9f8bb726"
      },
      "execution_count": 99,
      "outputs": [
        {
          "output_type": "stream",
          "name": "stdout",
          "text": [
            "4\n"
          ]
        }
      ]
    },
    {
      "cell_type": "code",
      "source": [
        "greetings = \"Hi! my name is python. I love to write codelines in python\"\n",
        "m =greetings.rindex(\"python\")\n",
        "print(m)"
      ],
      "metadata": {
        "colab": {
          "base_uri": "https://localhost:8080/"
        },
        "id": "966VGUYWMR6E",
        "outputId": "819dfd9b-ddfc-46fc-f2df-184dc914a013"
      },
      "execution_count": 100,
      "outputs": [
        {
          "output_type": "stream",
          "name": "stdout",
          "text": [
            "52\n"
          ]
        }
      ]
    },
    {
      "cell_type": "code",
      "source": [
        "greetings = \"Hi! my name is python. I love to write codelines in python\"\n",
        "m =greetings.rindex(\"t\")\n",
        "print(m)"
      ],
      "metadata": {
        "colab": {
          "base_uri": "https://localhost:8080/"
        },
        "id": "Oh-nq8hVMmDK",
        "outputId": "eaa3c516-acd3-4384-eb97-92db72f68aa2"
      },
      "execution_count": 101,
      "outputs": [
        {
          "output_type": "stream",
          "name": "stdout",
          "text": [
            "54\n"
          ]
        }
      ]
    },
    {
      "cell_type": "code",
      "source": [
        "greetings = \"Hi! my name is python. I love to write codelines in python\"\n",
        "m =greetings.rindex(\"m\", 3, 6)\n",
        "print(m)"
      ],
      "metadata": {
        "colab": {
          "base_uri": "https://localhost:8080/"
        },
        "id": "0dLyskv4Mr3p",
        "outputId": "c182568f-909f-44e6-e524-4e86ee3a6f89"
      },
      "execution_count": 102,
      "outputs": [
        {
          "output_type": "stream",
          "name": "stdout",
          "text": [
            "4\n"
          ]
        }
      ]
    },
    {
      "cell_type": "code",
      "source": [
        "txt = \"python\"\n",
        "\n",
        "x = txt.rjust(20)\n",
        "\n",
        "print(x, \"is my favorite language.\")"
      ],
      "metadata": {
        "colab": {
          "base_uri": "https://localhost:8080/"
        },
        "id": "b7cFyOAmM2ow",
        "outputId": "d10dccbf-3e60-4294-9bc4-b6be2a13d6ab"
      },
      "execution_count": 103,
      "outputs": [
        {
          "output_type": "stream",
          "name": "stdout",
          "text": [
            "              python is my favorite language.\n"
          ]
        }
      ]
    },
    {
      "cell_type": "code",
      "source": [
        "txt = \"python\"\n",
        "\n",
        "x = txt.rjust(20,\"A\")\n",
        "\n",
        "print(x)"
      ],
      "metadata": {
        "colab": {
          "base_uri": "https://localhost:8080/"
        },
        "id": "dSrmups6NCd7",
        "outputId": "03d4d178-9087-4edd-d16a-1e8e6c23e0c2"
      },
      "execution_count": 104,
      "outputs": [
        {
          "output_type": "stream",
          "name": "stdout",
          "text": [
            "AAAAAAAAAAAAAApython\n"
          ]
        }
      ]
    },
    {
      "cell_type": "code",
      "source": [
        "greetings = \"Hi! my name is python I love to write codelines in python\"\n",
        "m =greetings.rpartition(\"is\")\n",
        "print(m)"
      ],
      "metadata": {
        "colab": {
          "base_uri": "https://localhost:8080/"
        },
        "id": "q2gMBGjZNLay",
        "outputId": "354f1690-da34-48d9-f165-605e67b29afe"
      },
      "execution_count": 105,
      "outputs": [
        {
          "output_type": "stream",
          "name": "stdout",
          "text": [
            "('Hi! my name ', 'is', ' python I love to write codelines in python')\n"
          ]
        }
      ]
    },
    {
      "cell_type": "code",
      "source": [
        "greetings = \"Hi! my name is python I love to write codelines in python\"\n",
        "m =greetings.rpartition(\"are\")\n",
        "print(m)"
      ],
      "metadata": {
        "colab": {
          "base_uri": "https://localhost:8080/"
        },
        "id": "jeA5GJzVNqxQ",
        "outputId": "14b257e4-a9fd-4656-c443-df649b26b002"
      },
      "execution_count": 106,
      "outputs": [
        {
          "output_type": "stream",
          "name": "stdout",
          "text": [
            "('', '', 'Hi! my name is python I love to write codelines in python')\n"
          ]
        }
      ]
    },
    {
      "cell_type": "code",
      "source": [
        "greetings = \"python, R, SQL\"\n",
        "m =greetings.rsplit(\", \")\n",
        "print(m)"
      ],
      "metadata": {
        "colab": {
          "base_uri": "https://localhost:8080/"
        },
        "id": "rxpYdmbgNylN",
        "outputId": "079edec1-1416-417e-a333-c8c16d37a48b"
      },
      "execution_count": 107,
      "outputs": [
        {
          "output_type": "stream",
          "name": "stdout",
          "text": [
            "['python', 'R', 'SQL']\n"
          ]
        }
      ]
    },
    {
      "cell_type": "code",
      "source": [
        "greetings = \"python, R, SQL\"\n",
        "m =greetings.rsplit(\", \", 1)\n",
        "print(m)"
      ],
      "metadata": {
        "colab": {
          "base_uri": "https://localhost:8080/"
        },
        "id": "PWYGJtYAOBR4",
        "outputId": "83b1b557-5845-4701-9ac5-ec8090b25a48"
      },
      "execution_count": 108,
      "outputs": [
        {
          "output_type": "stream",
          "name": "stdout",
          "text": [
            "['python, R', 'SQL']\n"
          ]
        }
      ]
    },
    {
      "cell_type": "code",
      "source": [
        "txt = \"     orange     \"\n",
        "\n",
        "x = txt.rstrip()\n",
        "\n",
        "print(\"of all fruits\", x, \"is my favorite\")\n"
      ],
      "metadata": {
        "colab": {
          "base_uri": "https://localhost:8080/"
        },
        "id": "BSMWWWD7OMiV",
        "outputId": "5219bfdb-400f-48b6-e783-8fb681b0cad1"
      },
      "execution_count": 110,
      "outputs": [
        {
          "output_type": "stream",
          "name": "stdout",
          "text": [
            "of all fruits      orange is my favorite\n"
          ]
        }
      ]
    },
    {
      "cell_type": "code",
      "source": [
        "txt = \"banana,,,,,ssqqqww.....\"\n",
        "\n",
        "x = txt.rstrip(\",.qsw\")\n",
        "\n",
        "print(x)"
      ],
      "metadata": {
        "colab": {
          "base_uri": "https://localhost:8080/"
        },
        "id": "zxEB8y7dOdBH",
        "outputId": "6dfbce2b-e69d-4407-907e-5bb28e02754b"
      },
      "execution_count": 111,
      "outputs": [
        {
          "output_type": "stream",
          "name": "stdout",
          "text": [
            "banana\n"
          ]
        }
      ]
    },
    {
      "cell_type": "code",
      "source": [
        "greetings = \"Hi! my name is python I love to write codelines in python\"\n",
        "m =greetings.splitlines()\n",
        "print(m)"
      ],
      "metadata": {
        "colab": {
          "base_uri": "https://localhost:8080/"
        },
        "id": "P9wXGBJrOifB",
        "outputId": "c926614b-e52e-42d7-e155-534bb3675987"
      },
      "execution_count": 112,
      "outputs": [
        {
          "output_type": "stream",
          "name": "stdout",
          "text": [
            "['Hi! my name is python I love to write codelines in python']\n"
          ]
        }
      ]
    },
    {
      "cell_type": "code",
      "source": [
        "greetings = \"Hi! my name is python I\\nlove to write codelines in python\"\n",
        "m =greetings.splitlines(True)\n",
        "print(m)"
      ],
      "metadata": {
        "colab": {
          "base_uri": "https://localhost:8080/"
        },
        "id": "FmielySdOrZt",
        "outputId": "2593cf44-4fd0-45e8-c358-80e0d04f12a7"
      },
      "execution_count": 115,
      "outputs": [
        {
          "output_type": "stream",
          "name": "stdout",
          "text": [
            "['Hi! my name is python I\\n', 'love to write codelines in python']\n"
          ]
        }
      ]
    },
    {
      "cell_type": "code",
      "source": [
        "greetings = \"Hi! my name is python I\\nlove to write codelines in python\"\n",
        "m =greetings.startswith(\"Hi!\")\n",
        "print(m)"
      ],
      "metadata": {
        "colab": {
          "base_uri": "https://localhost:8080/"
        },
        "id": "UK7rbDclOx9W",
        "outputId": "ac18722a-b0ae-4314-c8b1-ac338376b5b6"
      },
      "execution_count": 116,
      "outputs": [
        {
          "output_type": "stream",
          "name": "stdout",
          "text": [
            "True\n"
          ]
        }
      ]
    },
    {
      "cell_type": "code",
      "source": [
        "greetings = \"Hi! my name is python I\\nlove to write codelines in python\"\n",
        "m =greetings.startswith(\"na\", 7, 12)\n",
        "print(m)"
      ],
      "metadata": {
        "colab": {
          "base_uri": "https://localhost:8080/"
        },
        "id": "H0d1ABBGPDqF",
        "outputId": "df17c9ef-a62a-41ed-a872-78f0741d1680"
      },
      "execution_count": 117,
      "outputs": [
        {
          "output_type": "stream",
          "name": "stdout",
          "text": [
            "True\n"
          ]
        }
      ]
    },
    {
      "cell_type": "code",
      "source": [
        "txt = \"     orange     \"\n",
        "\n",
        "x = txt.strip()\n",
        "\n",
        "print(\"of all fruits\", x, \"is my favorite\")\n"
      ],
      "metadata": {
        "colab": {
          "base_uri": "https://localhost:8080/"
        },
        "id": "df1HZvDxPQVe",
        "outputId": "514a5454-1b97-4ef4-9702-5c345a0afca5"
      },
      "execution_count": 118,
      "outputs": [
        {
          "output_type": "stream",
          "name": "stdout",
          "text": [
            "of all fruits orange is my favorite\n"
          ]
        }
      ]
    },
    {
      "cell_type": "code",
      "source": [
        "txt = \"orange,,,,,ssqqqww.....\"\n",
        "\n",
        "x = txt.strip(\",.qsw\")\n",
        "\n",
        "print(x)"
      ],
      "metadata": {
        "colab": {
          "base_uri": "https://localhost:8080/"
        },
        "id": "UpqGq9JZPhOr",
        "outputId": "62962da8-9a1f-4224-ad4f-4dff3a9d3888"
      },
      "execution_count": 119,
      "outputs": [
        {
          "output_type": "stream",
          "name": "stdout",
          "text": [
            "orange\n"
          ]
        }
      ]
    },
    {
      "cell_type": "code",
      "source": [
        "a = \"15\"\n",
        "\n",
        "x = a.zfill(7)\n",
        " \n",
        "print(x)"
      ],
      "metadata": {
        "colab": {
          "base_uri": "https://localhost:8080/"
        },
        "id": "DjN-pAfWPqRC",
        "outputId": "0003eaf3-eaf9-414d-ce6a-247e42f433eb"
      },
      "execution_count": 123,
      "outputs": [
        {
          "output_type": "stream",
          "name": "stdout",
          "text": [
            "0000015\n"
          ]
        }
      ]
    },
    {
      "cell_type": "code",
      "source": [
        "a = \"mine\"\n",
        "b = \"you are a good listener\"\n",
        "c = \"78.462\"\n",
        "\n",
        "print(a.zfill(10))\n",
        "print(b.zfill(10))\n",
        "print(c.zfill(10))\n"
      ],
      "metadata": {
        "colab": {
          "base_uri": "https://localhost:8080/"
        },
        "id": "SaOgmE3DP1JF",
        "outputId": "c204559a-0a1c-4979-9d07-07e49257ad41"
      },
      "execution_count": 124,
      "outputs": [
        {
          "output_type": "stream",
          "name": "stdout",
          "text": [
            "000000mine\n",
            "you are a good listener\n",
            "000078.462\n"
          ]
        }
      ]
    },
    {
      "cell_type": "code",
      "source": [
        "a = {14: 50}\n",
        "b = \"Akshay Sharma\"\n",
        "print(b.translate(a))"
      ],
      "metadata": {
        "colab": {
          "base_uri": "https://localhost:8080/"
        },
        "id": "MTXs-RYAQPYX",
        "outputId": "41319611-bab2-43ff-88ee-97f114f5bdd8"
      },
      "execution_count": 125,
      "outputs": [
        {
          "output_type": "stream",
          "name": "stdout",
          "text": [
            "Akshay Sharma\n"
          ]
        }
      ]
    },
    {
      "cell_type": "code",
      "source": [
        "a = {187: 67820}\n",
        "b = \"Moni Sharma\"\n",
        "print(b.translate(a))"
      ],
      "metadata": {
        "colab": {
          "base_uri": "https://localhost:8080/"
        },
        "id": "alqBysPGSImJ",
        "outputId": "f1f40e7c-223d-4600-ad01-75ce9ae52de2"
      },
      "execution_count": 126,
      "outputs": [
        {
          "output_type": "stream",
          "name": "stdout",
          "text": [
            "Moni Sharma\n"
          ]
        }
      ]
    },
    {
      "cell_type": "code",
      "source": [
        "a = \"Moni Sharma\"\n",
        "b = a.maketrans(\"Moni\", \"bebo\")\n",
        "print(a.translate(b))"
      ],
      "metadata": {
        "colab": {
          "base_uri": "https://localhost:8080/"
        },
        "id": "TqpKJ1XHSIop",
        "outputId": "afae1816-76a4-4c99-978a-9b34b4af3289"
      },
      "execution_count": 131,
      "outputs": [
        {
          "output_type": "stream",
          "name": "stdout",
          "text": [
            "bebo Sharma\n"
          ]
        }
      ]
    },
    {
      "cell_type": "code",
      "source": [
        "a = \"Moni Sharma\"\n",
        "x=\"Moni\"\n",
        "y=\"obeb\"\n",
        "b = a.maketrans(x, y)\n",
        "print(a.translate(b))"
      ],
      "metadata": {
        "colab": {
          "base_uri": "https://localhost:8080/"
        },
        "id": "9ptTQLPjSIqw",
        "outputId": "af9971da-b329-4157-8033-e066c69e301a"
      },
      "execution_count": 133,
      "outputs": [
        {
          "output_type": "stream",
          "name": "stdout",
          "text": [
            "obeb Sharma\n"
          ]
        }
      ]
    },
    {
      "cell_type": "code",
      "source": [
        "txt = \"Good night Sam!\"\n",
        "mydict = {109: 101, 83: 74, 97: 111, 111: None, 100: None, 110: None, 103: None, 104: None, 116: None}\n",
        "print(txt.translate(mydict))\n"
      ],
      "metadata": {
        "colab": {
          "base_uri": "https://localhost:8080/"
        },
        "id": "S1YAfrltSItQ",
        "outputId": "2a5d17dd-6ef1-4f17-bde0-ef4913d14246"
      },
      "execution_count": 134,
      "outputs": [
        {
          "output_type": "stream",
          "name": "stdout",
          "text": [
            "G i Joe!\n"
          ]
        }
      ]
    },
    {
      "cell_type": "code",
      "source": [
        "x = \"akshay is leaving in a good space\"\n",
        "a = x.title()\n",
        "print(a)"
      ],
      "metadata": {
        "colab": {
          "base_uri": "https://localhost:8080/"
        },
        "id": "hs9CVW_5SIvy",
        "outputId": "4cdec05e-2e21-4998-971c-fca0efd607a6"
      },
      "execution_count": 135,
      "outputs": [
        {
          "output_type": "stream",
          "name": "stdout",
          "text": [
            "Akshay Is Leaving In A Good Space\n"
          ]
        }
      ]
    },
    {
      "cell_type": "code",
      "source": [
        "x = \"akshay is leaving in a 1first space\"\n",
        "a = x.title()\n",
        "print(a)"
      ],
      "metadata": {
        "colab": {
          "base_uri": "https://localhost:8080/"
        },
        "id": "-r66EfAUSI0O",
        "outputId": "b302fa2c-26e3-49fc-e830-4bc172459c81"
      },
      "execution_count": 136,
      "outputs": [
        {
          "output_type": "stream",
          "name": "stdout",
          "text": [
            "Akshay Is Leaving In A 1First Space\n"
          ]
        }
      ]
    },
    {
      "cell_type": "code",
      "source": [
        "x = \"q2q2w3e34 h6h7h8h2h2\"\n",
        "a = x.title()\n",
        "print(a)"
      ],
      "metadata": {
        "colab": {
          "base_uri": "https://localhost:8080/"
        },
        "id": "sjCz1SlHSI2M",
        "outputId": "275c4006-078c-4a33-ea78-0bc7e7a0eacd"
      },
      "execution_count": 137,
      "outputs": [
        {
          "output_type": "stream",
          "name": "stdout",
          "text": [
            "Q2Q2W3E34 H6H7H8H2H2\n"
          ]
        }
      ]
    },
    {
      "cell_type": "code",
      "source": [
        "x = \"AKSHAY is leaving in a FIRST space\"\n",
        "a = x.swapcase()\n",
        "print(a)"
      ],
      "metadata": {
        "colab": {
          "base_uri": "https://localhost:8080/"
        },
        "id": "uDZRNEOuSI5e",
        "outputId": "5d5224bb-6573-4f23-fd96-7ffd20db6cc9"
      },
      "execution_count": 138,
      "outputs": [
        {
          "output_type": "stream",
          "name": "stdout",
          "text": [
            "akshay IS LEAVING IN A first SPACE\n"
          ]
        }
      ]
    },
    {
      "cell_type": "code",
      "source": [
        ""
      ],
      "metadata": {
        "id": "kWbxzxgnVmYj"
      },
      "execution_count": null,
      "outputs": []
    }
  ]
}